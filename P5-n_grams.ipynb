{
 "cells": [
  {
   "cell_type": "markdown",
   "id": "157233ab-fbf9-4132-8fba-60e53c95239b",
   "metadata": {},
   "source": [
    "# Generate n-gram representation of the corpus.\n",
    "Generate n-gram representation for the given corpus and perform following operation on the corpus.\n",
    "\n",
    "1. Preprocessing the corpus for n-gram representation\n",
    "2. Display all tokens, distinct tokens and frequency of tokens in the corpus.\n",
    "3. Bi-Gram and frequency represenation using user defined functions.\n",
    "4. Tri-Gram and frequency representation using user defined functions."
   ]
  },
  {
   "cell_type": "code",
   "execution_count": 1,
   "id": "fda45ed5-b03d-4d7d-91ae-7030a8712e3e",
   "metadata": {},
   "outputs": [
    {
     "name": "stdout",
     "output_type": "stream",
     "text": [
      "The Arabian knights.These are the fairy tales of the east.The stories of the Arabian knights are translated in many languages\n"
     ]
    }
   ],
   "source": [
    "import nltk\n",
    "with open('Resources/NGRAM.txt') as f:\n",
    "    corpus = f.readline()\n",
    "print(corpus)"
   ]
  },
  {
   "cell_type": "markdown",
   "id": "3e50d74c-9dbc-4d58-8e61-8d54f27b748c",
   "metadata": {},
   "source": [
    "## Preprocess"
   ]
  },
  {
   "cell_type": "code",
   "execution_count": 2,
   "id": "02ae45a3-df37-4558-ad02-8977db96c867",
   "metadata": {},
   "outputs": [
    {
     "name": "stdout",
     "output_type": "stream",
     "text": [
      "eos the arabian knights eos these are the fairy tales of the east eos the stories of the arabian knights are translated in many languages\n"
     ]
    }
   ],
   "source": [
    "corpus = corpus.lower()\n",
    "corpus = \"eos \"+ corpus\n",
    "corpus = corpus.replace('.', ' eos ')\n",
    "print(corpus)"
   ]
  },
  {
   "cell_type": "markdown",
   "id": "aa30580b-8f43-454a-a7fc-d0b0e6cd26db",
   "metadata": {},
   "source": [
    "## Display Tokens and Freq."
   ]
  },
  {
   "cell_type": "code",
   "execution_count": 3,
   "id": "b7103490-a56d-436b-8676-daca0b0470bc",
   "metadata": {},
   "outputs": [
    {
     "name": "stdout",
     "output_type": "stream",
     "text": [
      "Frequency of tokens:  {'eos': 3, 'the': 5, 'arabian': 2, 'knights': 2, 'these': 1, 'are': 2, 'fairy': 1, 'tales': 1, 'of': 2, 'east': 1, 'stories': 1, 'translated': 1, 'in': 1, 'many': 1, 'languages': 1}\n"
     ]
    }
   ],
   "source": [
    "from nltk.tokenize import word_tokenize\n",
    "tokens = word_tokenize(corpus)\n",
    "unique_tokens = set(tokens)\n",
    "freq = {}\n",
    "for i in tokens:\n",
    "    if i not in freq:\n",
    "        freq[i] = 1\n",
    "    else:\n",
    "        freq[i] += 1\n",
    "print(\"Frequency of tokens: \", freq)"
   ]
  },
  {
   "cell_type": "markdown",
   "id": "1ca931c6-25f6-46ef-bfb6-a744937e0a6f",
   "metadata": {},
   "source": [
    "## Generate n-grams and freq."
   ]
  },
  {
   "cell_type": "code",
   "execution_count": 5,
   "id": "b44578eb-51c9-424c-a216-5bee24cd9ea2",
   "metadata": {},
   "outputs": [
    {
     "name": "stdout",
     "output_type": "stream",
     "text": [
      "{'eos the': 2, 'the arabian': 2, 'arabian knights': 2, 'knights eos': 1, 'eos these': 1, 'these are': 1, 'are the': 1, 'the fairy': 1, 'fairy tales': 1, 'tales of': 1, 'of the': 2, 'the east': 1, 'east eos': 1, 'the stories': 1, 'stories of': 1, 'knights are': 1, 'are translated': 1, 'translated in': 1, 'in many': 1, 'many languages': 1}\n"
     ]
    }
   ],
   "source": [
    "# Better Version I Guess???\n",
    "from collections import Counter\n",
    "\n",
    "def n_gram(tokens: list, k: int) -> dict:\n",
    "    l = [\" \".join(tokens[i:i+k]) for i in range(len(tokens) - k + 1)]\n",
    "    l_count = Counter(l)\n",
    "    return dict(l_count)\n",
    "\n",
    "\n",
    "print(n_gram(tokens, 2))\n"
   ]
  },
  {
   "cell_type": "code",
   "execution_count": null,
   "id": "688c7b2a-d921-4afa-9b33-638c244b172e",
   "metadata": {},
   "outputs": [],
   "source": []
  }
 ],
 "metadata": {
  "kernelspec": {
   "display_name": "Python 3 (ipykernel)",
   "language": "python",
   "name": "python3"
  },
  "language_info": {
   "codemirror_mode": {
    "name": "ipython",
    "version": 3
   },
   "file_extension": ".py",
   "mimetype": "text/x-python",
   "name": "python",
   "nbconvert_exporter": "python",
   "pygments_lexer": "ipython3",
   "version": "3.11.5"
  }
 },
 "nbformat": 4,
 "nbformat_minor": 5
}
